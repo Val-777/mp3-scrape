{
 "cells": [
  {
   "cell_type": "code",
   "execution_count": 1,
   "metadata": {},
   "outputs": [
    {
     "name": "stdout",
     "output_type": "stream",
     "text": [
      "2.6.0\n"
     ]
    }
   ],
   "source": [
    "import sqlite3\n",
    "from sqlite3 import Error\n",
    " \n",
    "def create_connection(db_file):\n",
    "    \"\"\" create a database connection to a SQLite database \"\"\"\n",
    "    try:\n",
    "        conn = sqlite3.connect(db_file)\n",
    "        print(sqlite3.version)\n",
    "    except Error as e:\n",
    "        print(e)\n",
    "    finally:\n",
    "        conn.close()\n",
    " \n",
    "create_connection(\"C:/Users/val31/Desktop/Projects/mp3scrape/mp3database.db\")\n",
    "\n",
    "import sqlalchemy\n",
    "from sqlalchemy import create_engine\n",
    "\n",
    "engine = create_engine('sqlite:///mp3database.db', echo=False)\n",
    "from sqlalchemy.ext.declarative import declarative_base\n",
    "Base = declarative_base()\n",
    "\n",
    "from sqlalchemy import Column, Integer, String, ForeignKey\n",
    "from sqlalchemy.orm import relationship"
   ]
  },
  {
   "cell_type": "code",
   "execution_count": 3,
   "metadata": {},
   "outputs": [],
   "source": [
    "class Artist(Base):\n",
    "    __tablename__ = 'artist'\n",
    "    \n",
    "    id = Column(Integer, primary_key=True)\n",
    "    name = Column(String)\n",
    "    \n",
    "#     track = relationship(\"Track\", back_populates=\"artist\")\n",
    "    \n",
    "    def __repr__(self):\n",
    "        return \"<Artist({})>\".format(self.name)\n",
    "\n",
    "class Album(Base):\n",
    "    __tablename__ = 'album'\n",
    "    \n",
    "    id = Column(Integer, primary_key=True)\n",
    "    name = Column(String)\n",
    "    year = Column(Integer)\n",
    "    url = Column(String)\n",
    "    cover_url = Column(String)\n",
    "    \n",
    "    artist_id = Column(Integer, ForeignKey('artist.id'))  \n",
    "    artist = relationship(\"Artist\", back_populates=\"albums\")\n",
    "#     tracks = relationship(\"Track\", back_populates=\"track\")\n",
    "    \n",
    "    def __repr__(self):\n",
    "        return \"<Album({} by {} from {})>\".format(self.name, self.artist, self.year)\n",
    "    \n",
    "# class Track(Base):\n",
    "#     __tablename__ = 'track'\n",
    "    \n",
    "#     id = Column(Integer, primary_key=True)\n",
    "#     name = Column(String)\n",
    "#     year = Column(Integer)\n",
    "#     number = Column(Integer)\n",
    "#     url = Column(String)\n",
    "#     cover_url = Column(String)\n",
    "    \n",
    "#     artist_id = Column(Integer, ForeignKey('artist.id'))\n",
    "#     artist = relationship(\"Artist\", back_populates=\"track\")\n",
    "    \n",
    "#     album_id = Column(Integer, ForeignKey('album.id'))\n",
    "#     album = relationship(\"Album\", back_populates=\"track\")\n",
    "    \n",
    "#     def __repr__(self):\n",
    "#         return \"<Track({} by the artist {} from the album {})>\".format(self.name, self.artist, self.album)\n",
    "\n",
    "Artist.albums = relationship(\n",
    "    \"Album\", order_by=Album.year, back_populates=\"artist\")"
   ]
  },
  {
   "cell_type": "code",
   "execution_count": 4,
   "metadata": {},
   "outputs": [],
   "source": [
    "Base.metadata.create_all(engine)\n",
    "from sqlalchemy.orm import sessionmaker\n",
    "Session = sessionmaker(bind=engine)\n",
    "session = Session()"
   ]
  },
  {
   "cell_type": "code",
   "execution_count": 5,
   "metadata": {},
   "outputs": [
    {
     "ename": "AttributeError",
     "evalue": "'str' object has no attribute '_sa_instance_state'",
     "output_type": "error",
     "traceback": [
      "\u001b[1;31m---------------------------------------------------------------------------\u001b[0m",
      "\u001b[1;31mAttributeError\u001b[0m                            Traceback (most recent call last)",
      "\u001b[1;32m<ipython-input-5-14d4cbd3504e>\u001b[0m in \u001b[0;36m<module>\u001b[1;34m()\u001b[0m\n\u001b[1;32m----> 1\u001b[1;33m \u001b[0malbum\u001b[0m \u001b[1;33m=\u001b[0m \u001b[0mAlbum\u001b[0m\u001b[1;33m(\u001b[0m\u001b[0mname\u001b[0m\u001b[1;33m=\u001b[0m\u001b[1;34m'Airplane'\u001b[0m\u001b[1;33m,\u001b[0m \u001b[0myear\u001b[0m\u001b[1;33m=\u001b[0m\u001b[1;36m1984\u001b[0m\u001b[1;33m,\u001b[0m \u001b[0murl\u001b[0m\u001b[1;33m=\u001b[0m\u001b[1;34m'download.mp3'\u001b[0m\u001b[1;33m,\u001b[0m \u001b[0martist\u001b[0m\u001b[1;33m=\u001b[0m\u001b[1;34m'Michael Jackson'\u001b[0m\u001b[1;33m)\u001b[0m\u001b[1;33m\u001b[0m\u001b[0m\n\u001b[0m",
      "\u001b[1;32m<string>\u001b[0m in \u001b[0;36m__init__\u001b[1;34m(self, **kwargs)\u001b[0m\n",
      "\u001b[1;32mc:\\users\\val31\\desktop\\projects\\mp3scrape\\mp3\\lib\\site-packages\\sqlalchemy\\orm\\state.py\u001b[0m in \u001b[0;36m_initialize_instance\u001b[1;34m(*mixed, **kwargs)\u001b[0m\n\u001b[0;32m    415\u001b[0m         \u001b[1;32mexcept\u001b[0m\u001b[1;33m:\u001b[0m\u001b[1;33m\u001b[0m\u001b[0m\n\u001b[0;32m    416\u001b[0m             \u001b[1;32mwith\u001b[0m \u001b[0mutil\u001b[0m\u001b[1;33m.\u001b[0m\u001b[0msafe_reraise\u001b[0m\u001b[1;33m(\u001b[0m\u001b[1;33m)\u001b[0m\u001b[1;33m:\u001b[0m\u001b[1;33m\u001b[0m\u001b[0m\n\u001b[1;32m--> 417\u001b[1;33m                 \u001b[0mmanager\u001b[0m\u001b[1;33m.\u001b[0m\u001b[0mdispatch\u001b[0m\u001b[1;33m.\u001b[0m\u001b[0minit_failure\u001b[0m\u001b[1;33m(\u001b[0m\u001b[0mself\u001b[0m\u001b[1;33m,\u001b[0m \u001b[0margs\u001b[0m\u001b[1;33m,\u001b[0m \u001b[0mkwargs\u001b[0m\u001b[1;33m)\u001b[0m\u001b[1;33m\u001b[0m\u001b[0m\n\u001b[0m\u001b[0;32m    418\u001b[0m \u001b[1;33m\u001b[0m\u001b[0m\n\u001b[0;32m    419\u001b[0m     \u001b[1;32mdef\u001b[0m \u001b[0mget_history\u001b[0m\u001b[1;33m(\u001b[0m\u001b[0mself\u001b[0m\u001b[1;33m,\u001b[0m \u001b[0mkey\u001b[0m\u001b[1;33m,\u001b[0m \u001b[0mpassive\u001b[0m\u001b[1;33m)\u001b[0m\u001b[1;33m:\u001b[0m\u001b[1;33m\u001b[0m\u001b[0m\n",
      "\u001b[1;32mc:\\users\\val31\\desktop\\projects\\mp3scrape\\mp3\\lib\\site-packages\\sqlalchemy\\util\\langhelpers.py\u001b[0m in \u001b[0;36m__exit__\u001b[1;34m(self, type_, value, traceback)\u001b[0m\n\u001b[0;32m     64\u001b[0m             \u001b[0mself\u001b[0m\u001b[1;33m.\u001b[0m\u001b[0m_exc_info\u001b[0m \u001b[1;33m=\u001b[0m \u001b[1;32mNone\u001b[0m   \u001b[1;31m# remove potential circular references\u001b[0m\u001b[1;33m\u001b[0m\u001b[0m\n\u001b[0;32m     65\u001b[0m             \u001b[1;32mif\u001b[0m \u001b[1;32mnot\u001b[0m \u001b[0mself\u001b[0m\u001b[1;33m.\u001b[0m\u001b[0mwarn_only\u001b[0m\u001b[1;33m:\u001b[0m\u001b[1;33m\u001b[0m\u001b[0m\n\u001b[1;32m---> 66\u001b[1;33m                 \u001b[0mcompat\u001b[0m\u001b[1;33m.\u001b[0m\u001b[0mreraise\u001b[0m\u001b[1;33m(\u001b[0m\u001b[0mexc_type\u001b[0m\u001b[1;33m,\u001b[0m \u001b[0mexc_value\u001b[0m\u001b[1;33m,\u001b[0m \u001b[0mexc_tb\u001b[0m\u001b[1;33m)\u001b[0m\u001b[1;33m\u001b[0m\u001b[0m\n\u001b[0m\u001b[0;32m     67\u001b[0m         \u001b[1;32melse\u001b[0m\u001b[1;33m:\u001b[0m\u001b[1;33m\u001b[0m\u001b[0m\n\u001b[0;32m     68\u001b[0m             \u001b[1;32mif\u001b[0m \u001b[1;32mnot\u001b[0m \u001b[0mcompat\u001b[0m\u001b[1;33m.\u001b[0m\u001b[0mpy3k\u001b[0m \u001b[1;32mand\u001b[0m \u001b[0mself\u001b[0m\u001b[1;33m.\u001b[0m\u001b[0m_exc_info\u001b[0m \u001b[1;32mand\u001b[0m \u001b[0mself\u001b[0m\u001b[1;33m.\u001b[0m\u001b[0m_exc_info\u001b[0m\u001b[1;33m[\u001b[0m\u001b[1;36m1\u001b[0m\u001b[1;33m]\u001b[0m\u001b[1;33m:\u001b[0m\u001b[1;33m\u001b[0m\u001b[0m\n",
      "\u001b[1;32mc:\\users\\val31\\desktop\\projects\\mp3scrape\\mp3\\lib\\site-packages\\sqlalchemy\\util\\compat.py\u001b[0m in \u001b[0;36mreraise\u001b[1;34m(tp, value, tb, cause)\u001b[0m\n\u001b[0;32m    185\u001b[0m         \u001b[1;32mif\u001b[0m \u001b[0mvalue\u001b[0m\u001b[1;33m.\u001b[0m\u001b[0m__traceback__\u001b[0m \u001b[1;32mis\u001b[0m \u001b[1;32mnot\u001b[0m \u001b[0mtb\u001b[0m\u001b[1;33m:\u001b[0m\u001b[1;33m\u001b[0m\u001b[0m\n\u001b[0;32m    186\u001b[0m             \u001b[1;32mraise\u001b[0m \u001b[0mvalue\u001b[0m\u001b[1;33m.\u001b[0m\u001b[0mwith_traceback\u001b[0m\u001b[1;33m(\u001b[0m\u001b[0mtb\u001b[0m\u001b[1;33m)\u001b[0m\u001b[1;33m\u001b[0m\u001b[0m\n\u001b[1;32m--> 187\u001b[1;33m         \u001b[1;32mraise\u001b[0m \u001b[0mvalue\u001b[0m\u001b[1;33m\u001b[0m\u001b[0m\n\u001b[0m\u001b[0;32m    188\u001b[0m \u001b[1;33m\u001b[0m\u001b[0m\n\u001b[0;32m    189\u001b[0m \u001b[1;32melse\u001b[0m\u001b[1;33m:\u001b[0m\u001b[1;33m\u001b[0m\u001b[0m\n",
      "\u001b[1;32mc:\\users\\val31\\desktop\\projects\\mp3scrape\\mp3\\lib\\site-packages\\sqlalchemy\\orm\\state.py\u001b[0m in \u001b[0;36m_initialize_instance\u001b[1;34m(*mixed, **kwargs)\u001b[0m\n\u001b[0;32m    412\u001b[0m \u001b[1;33m\u001b[0m\u001b[0m\n\u001b[0;32m    413\u001b[0m         \u001b[1;32mtry\u001b[0m\u001b[1;33m:\u001b[0m\u001b[1;33m\u001b[0m\u001b[0m\n\u001b[1;32m--> 414\u001b[1;33m             \u001b[1;32mreturn\u001b[0m \u001b[0mmanager\u001b[0m\u001b[1;33m.\u001b[0m\u001b[0moriginal_init\u001b[0m\u001b[1;33m(\u001b[0m\u001b[1;33m*\u001b[0m\u001b[0mmixed\u001b[0m\u001b[1;33m[\u001b[0m\u001b[1;36m1\u001b[0m\u001b[1;33m:\u001b[0m\u001b[1;33m]\u001b[0m\u001b[1;33m,\u001b[0m \u001b[1;33m**\u001b[0m\u001b[0mkwargs\u001b[0m\u001b[1;33m)\u001b[0m\u001b[1;33m\u001b[0m\u001b[0m\n\u001b[0m\u001b[0;32m    415\u001b[0m         \u001b[1;32mexcept\u001b[0m\u001b[1;33m:\u001b[0m\u001b[1;33m\u001b[0m\u001b[0m\n\u001b[0;32m    416\u001b[0m             \u001b[1;32mwith\u001b[0m \u001b[0mutil\u001b[0m\u001b[1;33m.\u001b[0m\u001b[0msafe_reraise\u001b[0m\u001b[1;33m(\u001b[0m\u001b[1;33m)\u001b[0m\u001b[1;33m:\u001b[0m\u001b[1;33m\u001b[0m\u001b[0m\n",
      "\u001b[1;32mc:\\users\\val31\\desktop\\projects\\mp3scrape\\mp3\\lib\\site-packages\\sqlalchemy\\ext\\declarative\\base.py\u001b[0m in \u001b[0;36m_declarative_constructor\u001b[1;34m(self, **kwargs)\u001b[0m\n\u001b[0;32m    698\u001b[0m                 \u001b[1;34m\"%r is an invalid keyword argument for %s\"\u001b[0m \u001b[1;33m%\u001b[0m\u001b[1;33m\u001b[0m\u001b[0m\n\u001b[0;32m    699\u001b[0m                 (k, cls_.__name__))\n\u001b[1;32m--> 700\u001b[1;33m         \u001b[0msetattr\u001b[0m\u001b[1;33m(\u001b[0m\u001b[0mself\u001b[0m\u001b[1;33m,\u001b[0m \u001b[0mk\u001b[0m\u001b[1;33m,\u001b[0m \u001b[0mkwargs\u001b[0m\u001b[1;33m[\u001b[0m\u001b[0mk\u001b[0m\u001b[1;33m]\u001b[0m\u001b[1;33m)\u001b[0m\u001b[1;33m\u001b[0m\u001b[0m\n\u001b[0m\u001b[0;32m    701\u001b[0m \u001b[0m_declarative_constructor\u001b[0m\u001b[1;33m.\u001b[0m\u001b[0m__name__\u001b[0m \u001b[1;33m=\u001b[0m \u001b[1;34m'__init__'\u001b[0m\u001b[1;33m\u001b[0m\u001b[0m\n\u001b[0;32m    702\u001b[0m \u001b[1;33m\u001b[0m\u001b[0m\n",
      "\u001b[1;32mc:\\users\\val31\\desktop\\projects\\mp3scrape\\mp3\\lib\\site-packages\\sqlalchemy\\orm\\attributes.py\u001b[0m in \u001b[0;36m__set__\u001b[1;34m(self, instance, value)\u001b[0m\n\u001b[0;32m    227\u001b[0m     \u001b[1;32mdef\u001b[0m \u001b[0m__set__\u001b[0m\u001b[1;33m(\u001b[0m\u001b[0mself\u001b[0m\u001b[1;33m,\u001b[0m \u001b[0minstance\u001b[0m\u001b[1;33m,\u001b[0m \u001b[0mvalue\u001b[0m\u001b[1;33m)\u001b[0m\u001b[1;33m:\u001b[0m\u001b[1;33m\u001b[0m\u001b[0m\n\u001b[0;32m    228\u001b[0m         self.impl.set(instance_state(instance),\n\u001b[1;32m--> 229\u001b[1;33m                       instance_dict(instance), value, None)\n\u001b[0m\u001b[0;32m    230\u001b[0m \u001b[1;33m\u001b[0m\u001b[0m\n\u001b[0;32m    231\u001b[0m     \u001b[1;32mdef\u001b[0m \u001b[0m__delete__\u001b[0m\u001b[1;33m(\u001b[0m\u001b[0mself\u001b[0m\u001b[1;33m,\u001b[0m \u001b[0minstance\u001b[0m\u001b[1;33m)\u001b[0m\u001b[1;33m:\u001b[0m\u001b[1;33m\u001b[0m\u001b[0m\n",
      "\u001b[1;32mc:\\users\\val31\\desktop\\projects\\mp3scrape\\mp3\\lib\\site-packages\\sqlalchemy\\orm\\attributes.py\u001b[0m in \u001b[0;36mset\u001b[1;34m(self, state, dict_, value, initiator, passive, check_old, pop)\u001b[0m\n\u001b[0;32m    811\u001b[0m                     ))\n\u001b[0;32m    812\u001b[0m \u001b[1;33m\u001b[0m\u001b[0m\n\u001b[1;32m--> 813\u001b[1;33m         \u001b[0mvalue\u001b[0m \u001b[1;33m=\u001b[0m \u001b[0mself\u001b[0m\u001b[1;33m.\u001b[0m\u001b[0mfire_replace_event\u001b[0m\u001b[1;33m(\u001b[0m\u001b[0mstate\u001b[0m\u001b[1;33m,\u001b[0m \u001b[0mdict_\u001b[0m\u001b[1;33m,\u001b[0m \u001b[0mvalue\u001b[0m\u001b[1;33m,\u001b[0m \u001b[0mold\u001b[0m\u001b[1;33m,\u001b[0m \u001b[0minitiator\u001b[0m\u001b[1;33m)\u001b[0m\u001b[1;33m\u001b[0m\u001b[0m\n\u001b[0m\u001b[0;32m    814\u001b[0m         \u001b[0mdict_\u001b[0m\u001b[1;33m[\u001b[0m\u001b[0mself\u001b[0m\u001b[1;33m.\u001b[0m\u001b[0mkey\u001b[0m\u001b[1;33m]\u001b[0m \u001b[1;33m=\u001b[0m \u001b[0mvalue\u001b[0m\u001b[1;33m\u001b[0m\u001b[0m\n\u001b[0;32m    815\u001b[0m \u001b[1;33m\u001b[0m\u001b[0m\n",
      "\u001b[1;32mc:\\users\\val31\\desktop\\projects\\mp3scrape\\mp3\\lib\\site-packages\\sqlalchemy\\orm\\attributes.py\u001b[0m in \u001b[0;36mfire_replace_event\u001b[1;34m(self, state, dict_, value, previous, initiator)\u001b[0m\n\u001b[0;32m    831\u001b[0m         \u001b[1;32mfor\u001b[0m \u001b[0mfn\u001b[0m \u001b[1;32min\u001b[0m \u001b[0mself\u001b[0m\u001b[1;33m.\u001b[0m\u001b[0mdispatch\u001b[0m\u001b[1;33m.\u001b[0m\u001b[0mset\u001b[0m\u001b[1;33m:\u001b[0m\u001b[1;33m\u001b[0m\u001b[0m\n\u001b[0;32m    832\u001b[0m             value = fn(\n\u001b[1;32m--> 833\u001b[1;33m                 state, value, previous, initiator or self._replace_token)\n\u001b[0m\u001b[0;32m    834\u001b[0m \u001b[1;33m\u001b[0m\u001b[0m\n\u001b[0;32m    835\u001b[0m         \u001b[0mstate\u001b[0m\u001b[1;33m.\u001b[0m\u001b[0m_modified_event\u001b[0m\u001b[1;33m(\u001b[0m\u001b[0mdict_\u001b[0m\u001b[1;33m,\u001b[0m \u001b[0mself\u001b[0m\u001b[1;33m,\u001b[0m \u001b[0mprevious\u001b[0m\u001b[1;33m)\u001b[0m\u001b[1;33m\u001b[0m\u001b[0m\n",
      "\u001b[1;32mc:\\users\\val31\\desktop\\projects\\mp3scrape\\mp3\\lib\\site-packages\\sqlalchemy\\orm\\attributes.py\u001b[0m in \u001b[0;36memit_backref_from_scalar_set_event\u001b[1;34m(state, child, oldchild, initiator)\u001b[0m\n\u001b[0;32m   1179\u001b[0m \u001b[1;33m\u001b[0m\u001b[0m\n\u001b[0;32m   1180\u001b[0m         \u001b[1;32mif\u001b[0m \u001b[0mchild\u001b[0m \u001b[1;32mis\u001b[0m \u001b[1;32mnot\u001b[0m \u001b[1;32mNone\u001b[0m\u001b[1;33m:\u001b[0m\u001b[1;33m\u001b[0m\u001b[0m\n\u001b[1;32m-> 1181\u001b[1;33m             \u001b[0mchild_state\u001b[0m\u001b[1;33m,\u001b[0m \u001b[0mchild_dict\u001b[0m \u001b[1;33m=\u001b[0m \u001b[0minstance_state\u001b[0m\u001b[1;33m(\u001b[0m\u001b[0mchild\u001b[0m\u001b[1;33m)\u001b[0m\u001b[1;33m,\u001b[0m\u001b[0;31m\\\u001b[0m\u001b[1;33m\u001b[0m\u001b[0m\n\u001b[0m\u001b[0;32m   1182\u001b[0m                 \u001b[0minstance_dict\u001b[0m\u001b[1;33m(\u001b[0m\u001b[0mchild\u001b[0m\u001b[1;33m)\u001b[0m\u001b[1;33m\u001b[0m\u001b[0m\n\u001b[0;32m   1183\u001b[0m             \u001b[0mchild_impl\u001b[0m \u001b[1;33m=\u001b[0m \u001b[0mchild_state\u001b[0m\u001b[1;33m.\u001b[0m\u001b[0mmanager\u001b[0m\u001b[1;33m[\u001b[0m\u001b[0mkey\u001b[0m\u001b[1;33m]\u001b[0m\u001b[1;33m.\u001b[0m\u001b[0mimpl\u001b[0m\u001b[1;33m\u001b[0m\u001b[0m\n",
      "\u001b[1;31mAttributeError\u001b[0m: 'str' object has no attribute '_sa_instance_state'"
     ]
    }
   ],
   "source": [
    "album = Album(name='Airplane', year=1984, url='download.mp3', artist='Michael Jackson')"
   ]
  },
  {
   "cell_type": "code",
   "execution_count": 13,
   "metadata": {},
   "outputs": [
    {
     "data": {
      "text/plain": [
       "'Airplane'"
      ]
     },
     "execution_count": 13,
     "metadata": {},
     "output_type": "execute_result"
    }
   ],
   "source": [
    "album.name"
   ]
  },
  {
   "cell_type": "code",
   "execution_count": 14,
   "metadata": {},
   "outputs": [
    {
     "data": {
      "text/plain": [
       "1984"
      ]
     },
     "execution_count": 14,
     "metadata": {},
     "output_type": "execute_result"
    }
   ],
   "source": [
    "album.year"
   ]
  },
  {
   "cell_type": "code",
   "execution_count": 15,
   "metadata": {},
   "outputs": [],
   "source": [
    "album.artist = Artist(name='Michael Jackson')"
   ]
  },
  {
   "cell_type": "code",
   "execution_count": 16,
   "metadata": {},
   "outputs": [
    {
     "data": {
      "text/plain": [
       "<Artist(Michael Jackson)>"
      ]
     },
     "execution_count": 16,
     "metadata": {},
     "output_type": "execute_result"
    }
   ],
   "source": [
    "album.artist"
   ]
  },
  {
   "cell_type": "code",
   "execution_count": 17,
   "metadata": {},
   "outputs": [],
   "source": [
    "session.add(album)"
   ]
  },
  {
   "cell_type": "code",
   "execution_count": 18,
   "metadata": {},
   "outputs": [
    {
     "name": "stdout",
     "output_type": "stream",
     "text": [
      "2018-02-02 21:21:56,680 INFO sqlalchemy.engine.base.Engine BEGIN (implicit)\n",
      "2018-02-02 21:21:56,682 INFO sqlalchemy.engine.base.Engine INSERT INTO artist (name) VALUES (?)\n",
      "2018-02-02 21:21:56,684 INFO sqlalchemy.engine.base.Engine ('Michael Jackson',)\n",
      "2018-02-02 21:21:56,688 INFO sqlalchemy.engine.base.Engine INSERT INTO album (name, year, url, cover_url, artist_id) VALUES (?, ?, ?, ?, ?)\n",
      "2018-02-02 21:21:56,689 INFO sqlalchemy.engine.base.Engine ('Airplane', 1984, 'download.mp3', None, 1)\n",
      "2018-02-02 21:21:56,691 INFO sqlalchemy.engine.base.Engine COMMIT\n"
     ]
    }
   ],
   "source": [
    "session.commit()"
   ]
  },
  {
   "cell_type": "code",
   "execution_count": 20,
   "metadata": {},
   "outputs": [
    {
     "name": "stdout",
     "output_type": "stream",
     "text": [
      "2018-02-02 21:23:03,718 INFO sqlalchemy.engine.base.Engine SELECT artist.id AS artist_id, artist.name AS artist_name \n",
      "FROM artist \n",
      "WHERE artist.name = ?\n",
      "2018-02-02 21:23:03,720 INFO sqlalchemy.engine.base.Engine ('Michael Jackson',)\n"
     ]
    }
   ],
   "source": [
    "al = session.query(Artist).filter_by(name='Michael Jackson').one()"
   ]
  },
  {
   "cell_type": "code",
   "execution_count": 21,
   "metadata": {},
   "outputs": [
    {
     "data": {
      "text/plain": [
       "<Artist(Michael Jackson)>"
      ]
     },
     "execution_count": 21,
     "metadata": {},
     "output_type": "execute_result"
    }
   ],
   "source": [
    "al"
   ]
  },
  {
   "cell_type": "code",
   "execution_count": 22,
   "metadata": {},
   "outputs": [
    {
     "name": "stdout",
     "output_type": "stream",
     "text": [
      "2018-02-02 21:23:33,632 INFO sqlalchemy.engine.base.Engine SELECT album.id AS album_id, album.name AS album_name, album.year AS album_year, album.url AS album_url, album.cover_url AS album_cover_url, album.artist_id AS album_artist_id \n",
      "FROM album \n",
      "WHERE ? = album.artist_id\n",
      "2018-02-02 21:23:33,635 INFO sqlalchemy.engine.base.Engine (1,)\n"
     ]
    },
    {
     "data": {
      "text/plain": [
       "[<Album(Airplane by <Artist(Michael Jackson)> from 1984)>]"
      ]
     },
     "execution_count": 22,
     "metadata": {},
     "output_type": "execute_result"
    }
   ],
   "source": [
    "al.album"
   ]
  },
  {
   "cell_type": "code",
   "execution_count": 23,
   "metadata": {},
   "outputs": [],
   "source": [
    "session.add(Album(name='Guns & Roses', year=1982, url='download.mp3'))"
   ]
  },
  {
   "cell_type": "code",
   "execution_count": 24,
   "metadata": {},
   "outputs": [
    {
     "name": "stdout",
     "output_type": "stream",
     "text": [
      "2018-02-02 21:26:50,351 INFO sqlalchemy.engine.base.Engine INSERT INTO album (name, year, url, cover_url, artist_id) VALUES (?, ?, ?, ?, ?)\n",
      "2018-02-02 21:26:50,352 INFO sqlalchemy.engine.base.Engine ('Guns & Roses', 1982, 'download.mp3', None, None)\n",
      "2018-02-02 21:26:50,355 INFO sqlalchemy.engine.base.Engine COMMIT\n"
     ]
    }
   ],
   "source": [
    "session.commit()"
   ]
  },
  {
   "cell_type": "code",
   "execution_count": 25,
   "metadata": {},
   "outputs": [
    {
     "name": "stdout",
     "output_type": "stream",
     "text": [
      "2018-02-02 21:27:36,814 INFO sqlalchemy.engine.base.Engine BEGIN (implicit)\n",
      "2018-02-02 21:27:36,816 INFO sqlalchemy.engine.base.Engine SELECT album.id AS album_id, album.name AS album_name, album.year AS album_year, album.url AS album_url, album.cover_url AS album_cover_url, album.artist_id AS album_artist_id \n",
      "FROM album \n",
      "WHERE album.year = ?\n",
      "2018-02-02 21:27:36,817 INFO sqlalchemy.engine.base.Engine (1982,)\n"
     ]
    }
   ],
   "source": [
    "al2 = session.query(Album).filter_by(year=1982).one()"
   ]
  },
  {
   "cell_type": "code",
   "execution_count": 26,
   "metadata": {},
   "outputs": [
    {
     "data": {
      "text/plain": [
       "<Album(Guns & Roses by None from 1982)>"
      ]
     },
     "execution_count": 26,
     "metadata": {},
     "output_type": "execute_result"
    }
   ],
   "source": [
    "al2"
   ]
  },
  {
   "cell_type": "code",
   "execution_count": 27,
   "metadata": {},
   "outputs": [
    {
     "name": "stdout",
     "output_type": "stream",
     "text": [
      "2018-02-02 21:28:44,089 INFO sqlalchemy.engine.base.Engine SELECT artist.id AS artist_id, artist.name AS artist_name \n",
      "FROM artist \n",
      "WHERE artist.name = ?\n",
      "2018-02-02 21:28:44,090 INFO sqlalchemy.engine.base.Engine ('Michael Jackson',)\n"
     ]
    }
   ],
   "source": [
    "al2.artist = session.query(Artist).filter_by(name='Michael Jackson').one()"
   ]
  },
  {
   "cell_type": "code",
   "execution_count": 28,
   "metadata": {},
   "outputs": [
    {
     "name": "stdout",
     "output_type": "stream",
     "text": [
      "2018-02-02 21:28:58,648 INFO sqlalchemy.engine.base.Engine UPDATE album SET artist_id=? WHERE album.id = ?\n",
      "2018-02-02 21:28:58,649 INFO sqlalchemy.engine.base.Engine (1, 2)\n",
      "2018-02-02 21:28:58,653 INFO sqlalchemy.engine.base.Engine COMMIT\n"
     ]
    }
   ],
   "source": [
    "session.commit()"
   ]
  },
  {
   "cell_type": "code",
   "execution_count": 33,
   "metadata": {},
   "outputs": [
    {
     "name": "stdout",
     "output_type": "stream",
     "text": [
      "2018-02-02 21:31:14,604 INFO sqlalchemy.engine.base.Engine BEGIN (implicit)\n",
      "2018-02-02 21:31:14,606 INFO sqlalchemy.engine.base.Engine SELECT album.id AS album_id, album.name AS album_name, album.year AS album_year, album.url AS album_url, album.cover_url AS album_cover_url, album.artist_id AS album_artist_id \n",
      "FROM album\n",
      "2018-02-02 21:31:14,607 INFO sqlalchemy.engine.base.Engine ()\n"
     ]
    }
   ],
   "source": [
    "albums = session.query(Album).all()"
   ]
  },
  {
   "cell_type": "code",
   "execution_count": 34,
   "metadata": {},
   "outputs": [
    {
     "name": "stdout",
     "output_type": "stream",
     "text": [
      "2018-02-02 21:31:16,190 INFO sqlalchemy.engine.base.Engine SELECT artist.id AS artist_id, artist.name AS artist_name \n",
      "FROM artist \n",
      "WHERE artist.id = ?\n",
      "2018-02-02 21:31:16,191 INFO sqlalchemy.engine.base.Engine (1,)\n"
     ]
    },
    {
     "data": {
      "text/plain": [
       "[<Album(Airplane by <Artist(Michael Jackson)> from 1984)>,\n",
       " <Album(Guns & Roses by <Artist(Michael Jackson)> from 1982)>]"
      ]
     },
     "execution_count": 34,
     "metadata": {},
     "output_type": "execute_result"
    }
   ],
   "source": [
    "albums"
   ]
  },
  {
   "cell_type": "code",
   "execution_count": 35,
   "metadata": {},
   "outputs": [
    {
     "name": "stdout",
     "output_type": "stream",
     "text": [
      "2018-02-02 21:32:00,449 INFO sqlalchemy.engine.base.Engine SELECT artist.id AS artist_id, artist.name AS artist_name \n",
      "FROM artist\n",
      "2018-02-02 21:32:00,450 INFO sqlalchemy.engine.base.Engine ()\n"
     ]
    }
   ],
   "source": [
    "artist = session.query(Artist).all()"
   ]
  },
  {
   "cell_type": "code",
   "execution_count": 36,
   "metadata": {},
   "outputs": [
    {
     "data": {
      "text/plain": [
       "[<Artist(Michael Jackson)>]"
      ]
     },
     "execution_count": 36,
     "metadata": {},
     "output_type": "execute_result"
    }
   ],
   "source": [
    "artist"
   ]
  },
  {
   "cell_type": "code",
   "execution_count": 38,
   "metadata": {},
   "outputs": [
    {
     "name": "stdout",
     "output_type": "stream",
     "text": [
      "2018-02-02 21:32:33,984 INFO sqlalchemy.engine.base.Engine SELECT album.id AS album_id, album.name AS album_name, album.year AS album_year, album.url AS album_url, album.cover_url AS album_cover_url, album.artist_id AS album_artist_id \n",
      "FROM album \n",
      "WHERE ? = album.artist_id\n",
      "2018-02-02 21:32:33,986 INFO sqlalchemy.engine.base.Engine (1,)\n"
     ]
    },
    {
     "data": {
      "text/plain": [
       "[<Album(Airplane by <Artist(Michael Jackson)> from 1984)>,\n",
       " <Album(Guns & Roses by <Artist(Michael Jackson)> from 1982)>]"
      ]
     },
     "execution_count": 38,
     "metadata": {},
     "output_type": "execute_result"
    }
   ],
   "source": [
    "artist[0].album"
   ]
  },
  {
   "cell_type": "code",
   "execution_count": null,
   "metadata": {},
   "outputs": [],
   "source": []
  }
 ],
 "metadata": {
  "kernelspec": {
   "display_name": "Python 3",
   "language": "python",
   "name": "python3"
  },
  "language_info": {
   "codemirror_mode": {
    "name": "ipython",
    "version": 3
   },
   "file_extension": ".py",
   "mimetype": "text/x-python",
   "name": "python",
   "nbconvert_exporter": "python",
   "pygments_lexer": "ipython3",
   "version": "3.6.2"
  }
 },
 "nbformat": 4,
 "nbformat_minor": 2
}
