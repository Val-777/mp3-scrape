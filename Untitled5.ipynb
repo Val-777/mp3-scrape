{
 "cells": [
  {
   "cell_type": "code",
   "execution_count": 2,
   "metadata": {},
   "outputs": [],
   "source": [
    "from requests.exceptions import ConnectionError\n",
    "from time import time, localtime, strftime\n",
    "\n",
    "from bs4 import BeautifulSoup\n",
    "import requests\n",
    "\n",
    "url = 'http://tut-audio.su/mp3-album-reggaeton-freestyle-mix-tape-vol-007-download-5323164.html'\n",
    "\n",
    "page = requests.get(url)\n",
    "soup = BeautifulSoup(page.content, 'html.parser')"
   ]
  },
  {
   "cell_type": "code",
   "execution_count": 4,
   "metadata": {},
   "outputs": [
    {
     "data": {
      "text/plain": [
       "'Reggaeton Freestyle Mix Tape (Vol. 007)'"
      ]
     },
     "execution_count": 4,
     "metadata": {},
     "output_type": "execute_result"
    }
   ],
   "source": [
    "albume = soup.find(id=\"titlealb\").get_text()[:-14]\n",
    "albume"
   ]
  },
  {
   "cell_type": "code",
   "execution_count": 6,
   "metadata": {},
   "outputs": [
    {
     "data": {
      "text/plain": [
       "'2007'"
      ]
     },
     "execution_count": 6,
     "metadata": {},
     "output_type": "execute_result"
    }
   ],
   "source": [
    "year = soup.find(id=\"dopinfoalb\").find('p').find('b').get_text()\n",
    "year"
   ]
  },
  {
   "cell_type": "code",
   "execution_count": null,
   "metadata": {},
   "outputs": [],
   "source": [
    "\n",
    "image = url + album_soup.find(id=\"imagesalb\").get('src')\n",
    "t = album_soup.find_all(\"div\", \"player\")[0]\n",
    "artiste, _ = t['data-title'].split(' — ')"
   ]
  },
  {
   "cell_type": "code",
   "execution_count": 7,
   "metadata": {},
   "outputs": [],
   "source": [
    "from xml.sax.saxutils import escape, unescape"
   ]
  },
  {
   "cell_type": "code",
   "execution_count": 10,
   "metadata": {},
   "outputs": [],
   "source": [
    "html_unescape_table = {\"&\": \"&amp;\", '\"': \"&quot;\", \"'\": \"&apos;\", \">\": \"&gt;\", \"<\": \"&lt;\", }"
   ]
  },
  {
   "cell_type": "code",
   "execution_count": 11,
   "metadata": {},
   "outputs": [
    {
     "data": {
      "text/plain": [
       "'The Hollywood Symphony Orchestra &amp; Guests retrieved from data base!'"
      ]
     },
     "execution_count": 11,
     "metadata": {},
     "output_type": "execute_result"
    }
   ],
   "source": [
    "unescape('The Hollywood Symphony Orchestra &amp; Guests retrieved from data base!', html_unescape_table)"
   ]
  },
  {
   "cell_type": "code",
   "execution_count": 12,
   "metadata": {},
   "outputs": [],
   "source": [
    "def unescape(s):\n",
    "    s = s.replace(\"&lt;\", \"<\")\n",
    "    s = s.replace(\"&gt;\", \">\")\n",
    "    s = s.replace(\"&quot;\", '\"')\n",
    "    s = s.replace(\"&apos;\", \"'\")\n",
    "    s = s.replace(\"&amp;\", \"&\")\n",
    "    return s"
   ]
  },
  {
   "cell_type": "code",
   "execution_count": 13,
   "metadata": {},
   "outputs": [
    {
     "data": {
      "text/plain": [
       "'The Hollywood Symphony Orchestra & Guests retrieved from data base!'"
      ]
     },
     "execution_count": 13,
     "metadata": {},
     "output_type": "execute_result"
    }
   ],
   "source": [
    "unescape('The Hollywood Symphony Orchestra &amp; Guests retrieved from data base!')"
   ]
  },
  {
   "cell_type": "code",
   "execution_count": 4,
   "metadata": {},
   "outputs": [],
   "source": [
    "import sys\n",
    "def uprint(*objects, sep=' ', end='\\n', file=sys.stdout):\n",
    "    enc = file.encoding\n",
    "    if enc == 'UTF-8':\n",
    "        print(*objects, sep=sep, end=end, file=file)\n",
    "    else:\n",
    "        f = lambda obj: str(obj).encode(enc, errors='backslashreplace').decode(enc)\n",
    "        print(*map(f, objects), sep=sep, end=end, file=file)"
   ]
  },
  {
   "cell_type": "code",
   "execution_count": 5,
   "metadata": {},
   "outputs": [
    {
     "name": "stdout",
     "output_type": "stream",
     "text": [
      "xcvxcě34234ěščšěč\n"
     ]
    }
   ],
   "source": [
    "uprint('xcvxcě34234ěščšěč')"
   ]
  },
  {
   "cell_type": "code",
   "execution_count": 6,
   "metadata": {},
   "outputs": [
    {
     "name": "stdout",
     "output_type": "stream",
     "text": [
      "xcvxcě34234ěščšěč\n"
     ]
    }
   ],
   "source": [
    "print('xcvxcě34234ěščšěč')"
   ]
  },
  {
   "cell_type": "code",
   "execution_count": 1,
   "metadata": {},
   "outputs": [
    {
     "name": "stdout",
     "output_type": "stream",
     "text": [
      "utf-8\n"
     ]
    }
   ],
   "source": [
    "import codecs\n",
    "\n",
    "file = codecs.open('hallo.txt', 'w', 'utf-8')\n",
    "print(file.encoding)\n",
    "file.write('чсмчсмвавм')\n",
    "file.close()"
   ]
  },
  {
   "cell_type": "code",
   "execution_count": 2,
   "metadata": {},
   "outputs": [],
   "source": [
    "def write_to_log(messages):\n",
    "    for message in messages:\n",
    "        print(message[:-1])\n",
    "    file = codecs.open('logfileZZ.txt','a', 'utf-8')\n",
    "    for message in messages:\n",
    "        file.writelines(message)\n",
    "    file.close()\n",
    "    \n"
   ]
  },
  {
   "cell_type": "code",
   "execution_count": null,
   "metadata": {},
   "outputs": [],
   "source": [
    "def get_tracks(links):\n",
    "    track_num = 1\n",
    "    total_tracks = len(links)\n",
    "    for link in links:\n",
    "        tr_page=requests.head(url + link['data-mp3url'])\n",
    "        track = {}\n",
    "        track['artist'], track['name'] = link['data-title'].split(' — ')\n",
    "        track['artist'] = unescape(track['artist'])\n",
    "        track['name'] = unescape(track['name'])\n",
    "        track['number'] = '{}/{}'.format(track_num, total_tracks)\n",
    "        if tr_page.status_code == 200:\n",
    "            track['dllink'] = url + link['data-mp3url']\n",
    "        else:\n",
    "            missing_tracks += 1\n",
    "            track['dllink'] = 'Track is missing!'\n",
    "        print('{} {}'.format(track['number'], track['name']))\n",
    "        print(track['dllink'])\n",
    "        track_num += 1\n",
    "    write_to_log([SEPARATOR])\n",
    "    return "
   ]
  }
 ],
 "metadata": {
  "kernelspec": {
   "display_name": "Python 3",
   "language": "python",
   "name": "python3"
  },
  "language_info": {
   "codemirror_mode": {
    "name": "ipython",
    "version": 3
   },
   "file_extension": ".py",
   "mimetype": "text/x-python",
   "name": "python",
   "nbconvert_exporter": "python",
   "pygments_lexer": "ipython3",
   "version": "3.6.2"
  }
 },
 "nbformat": 4,
 "nbformat_minor": 2
}
