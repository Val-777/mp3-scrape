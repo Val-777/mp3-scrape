{
 "cells": [
  {
   "cell_type": "code",
   "execution_count": 1,
   "metadata": {},
   "outputs": [],
   "source": [
    "import sqlalchemy"
   ]
  },
  {
   "cell_type": "code",
   "execution_count": 2,
   "metadata": {},
   "outputs": [],
   "source": [
    "from sqlalchemy import create_engine"
   ]
  },
  {
   "cell_type": "code",
   "execution_count": 3,
   "metadata": {},
   "outputs": [],
   "source": [
    "engine = create_engine('sqlite:///:memory:', echo=True)"
   ]
  },
  {
   "cell_type": "code",
   "execution_count": 5,
   "metadata": {},
   "outputs": [],
   "source": [
    "from sqlalchemy.ext.declarative import declarative_base\n",
    "Base = declarative_base()"
   ]
  },
  {
   "cell_type": "code",
   "execution_count": 6,
   "metadata": {},
   "outputs": [],
   "source": [
    "from sqlalchemy import Column, Integer, String"
   ]
  },
  {
   "cell_type": "code",
   "execution_count": 7,
   "metadata": {},
   "outputs": [],
   "source": [
    "class User(Base):\n",
    "    __tablename__ = 'users'\n",
    "    \n",
    "    id = Column(Integer, primary_key=True)\n",
    "    name = Column(String)\n",
    "    fullname = Column(String)\n",
    "    password = Column(String)\n",
    "    \n",
    "    def __repr__(self):\n",
    "        return \"<User(name='%s', fullname='%s', password='%s')>\" % (self.name, self.fullname, self.password)"
   ]
  },
  {
   "cell_type": "code",
   "execution_count": 8,
   "metadata": {},
   "outputs": [
    {
     "data": {
      "text/plain": [
       "Table('users', MetaData(bind=None), Column('id', Integer(), table=<users>, primary_key=True, nullable=False), Column('name', String(), table=<users>), Column('fullname', String(), table=<users>), Column('password', String(), table=<users>), schema=None)"
      ]
     },
     "execution_count": 8,
     "metadata": {},
     "output_type": "execute_result"
    }
   ],
   "source": [
    "User.__table__"
   ]
  },
  {
   "cell_type": "code",
   "execution_count": 9,
   "metadata": {},
   "outputs": [
    {
     "name": "stdout",
     "output_type": "stream",
     "text": [
      "2018-01-31 21:46:38,066 INFO sqlalchemy.engine.base.Engine SELECT CAST('test plain returns' AS VARCHAR(60)) AS anon_1\n",
      "2018-01-31 21:46:38,073 INFO sqlalchemy.engine.base.Engine ()\n",
      "2018-01-31 21:46:38,075 INFO sqlalchemy.engine.base.Engine SELECT CAST('test unicode returns' AS VARCHAR(60)) AS anon_1\n",
      "2018-01-31 21:46:38,076 INFO sqlalchemy.engine.base.Engine ()\n",
      "2018-01-31 21:46:38,078 INFO sqlalchemy.engine.base.Engine PRAGMA table_info(\"users\")\n",
      "2018-01-31 21:46:38,080 INFO sqlalchemy.engine.base.Engine ()\n",
      "2018-01-31 21:46:38,083 INFO sqlalchemy.engine.base.Engine \n",
      "CREATE TABLE users (\n",
      "\tid INTEGER NOT NULL, \n",
      "\tname VARCHAR, \n",
      "\tfullname VARCHAR, \n",
      "\tpassword VARCHAR, \n",
      "\tPRIMARY KEY (id)\n",
      ")\n",
      "\n",
      "\n",
      "2018-01-31 21:46:38,084 INFO sqlalchemy.engine.base.Engine ()\n",
      "2018-01-31 21:46:38,087 INFO sqlalchemy.engine.base.Engine COMMIT\n"
     ]
    }
   ],
   "source": [
    "Base.metadata.create_all(engine)"
   ]
  },
  {
   "cell_type": "code",
   "execution_count": 15,
   "metadata": {},
   "outputs": [],
   "source": [
    "from sqlalchemy.orm import sessionmaker"
   ]
  },
  {
   "cell_type": "code",
   "execution_count": 16,
   "metadata": {},
   "outputs": [],
   "source": [
    "Session = sessionmaker(bind=engine)\n",
    "session = Session()"
   ]
  },
  {
   "cell_type": "code",
   "execution_count": 18,
   "metadata": {},
   "outputs": [],
   "source": [
    "ed_user = User(name='ed', fullname='Ed Jones', password='edspassword')\n",
    "session.add(ed_user)"
   ]
  },
  {
   "cell_type": "code",
   "execution_count": 19,
   "metadata": {},
   "outputs": [
    {
     "name": "stdout",
     "output_type": "stream",
     "text": [
      "2018-01-31 21:53:36,972 INFO sqlalchemy.engine.base.Engine BEGIN (implicit)\n",
      "2018-01-31 21:53:36,975 INFO sqlalchemy.engine.base.Engine INSERT INTO users (name, fullname, password) VALUES (?, ?, ?)\n",
      "2018-01-31 21:53:36,977 INFO sqlalchemy.engine.base.Engine ('ed', 'Ed Jones', 'edspassword')\n",
      "2018-01-31 21:53:36,981 INFO sqlalchemy.engine.base.Engine SELECT users.id AS users_id, users.name AS users_name, users.fullname AS users_fullname, users.password AS users_password \n",
      "FROM users \n",
      "WHERE users.name = ?\n",
      " LIMIT ? OFFSET ?\n",
      "2018-01-31 21:53:36,982 INFO sqlalchemy.engine.base.Engine ('ed', 1, 0)\n"
     ]
    },
    {
     "data": {
      "text/plain": [
       "<User(name='ed', fullname='Ed Jones', password='edspassword')>"
      ]
     },
     "execution_count": 19,
     "metadata": {},
     "output_type": "execute_result"
    }
   ],
   "source": [
    "our_user = session.query(User).filter_by(name='ed').first()\n",
    "our_user"
   ]
  },
  {
   "cell_type": "code",
   "execution_count": 20,
   "metadata": {},
   "outputs": [
    {
     "data": {
      "text/plain": [
       "True"
      ]
     },
     "execution_count": 20,
     "metadata": {},
     "output_type": "execute_result"
    }
   ],
   "source": [
    "ed_user is our_user"
   ]
  },
  {
   "cell_type": "code",
   "execution_count": 22,
   "metadata": {},
   "outputs": [],
   "source": [
    "session.add_all([\n",
    "    User(name='wendy', fullname='Wendy Williams', password='foobar'),\n",
    "    User(name='mary', fullname='Mary Contrary', password='xxg527'),\n",
    "    User(name='fred', fullname='Fred Flinstone', password='blah')\n",
    "])"
   ]
  },
  {
   "cell_type": "code",
   "execution_count": 23,
   "metadata": {},
   "outputs": [],
   "source": [
    "ed_user.password = 'f8s7ccs'"
   ]
  },
  {
   "cell_type": "code",
   "execution_count": 24,
   "metadata": {},
   "outputs": [
    {
     "data": {
      "text/plain": [
       "IdentitySet([<User(name='ed', fullname='Ed Jones', password='f8s7ccs')>])"
      ]
     },
     "execution_count": 24,
     "metadata": {},
     "output_type": "execute_result"
    }
   ],
   "source": [
    "session.dirty"
   ]
  },
  {
   "cell_type": "code",
   "execution_count": 25,
   "metadata": {},
   "outputs": [
    {
     "data": {
      "text/plain": [
       "IdentitySet([<User(name='wendy', fullname='Wendy Williams', password='foobar')>, <User(name='mary', fullname='Mary Contrary', password='xxg527')>, <User(name='fred', fullname='Fred Flinstone', password='blah')>])"
      ]
     },
     "execution_count": 25,
     "metadata": {},
     "output_type": "execute_result"
    }
   ],
   "source": [
    "session.new"
   ]
  },
  {
   "cell_type": "code",
   "execution_count": 26,
   "metadata": {},
   "outputs": [
    {
     "name": "stdout",
     "output_type": "stream",
     "text": [
      "2018-01-31 21:58:59,971 INFO sqlalchemy.engine.base.Engine UPDATE users SET password=? WHERE users.id = ?\n",
      "2018-01-31 21:58:59,973 INFO sqlalchemy.engine.base.Engine ('f8s7ccs', 1)\n",
      "2018-01-31 21:58:59,976 INFO sqlalchemy.engine.base.Engine INSERT INTO users (name, fullname, password) VALUES (?, ?, ?)\n",
      "2018-01-31 21:58:59,977 INFO sqlalchemy.engine.base.Engine ('wendy', 'Wendy Williams', 'foobar')\n",
      "2018-01-31 21:58:59,979 INFO sqlalchemy.engine.base.Engine INSERT INTO users (name, fullname, password) VALUES (?, ?, ?)\n",
      "2018-01-31 21:58:59,980 INFO sqlalchemy.engine.base.Engine ('mary', 'Mary Contrary', 'xxg527')\n",
      "2018-01-31 21:58:59,982 INFO sqlalchemy.engine.base.Engine INSERT INTO users (name, fullname, password) VALUES (?, ?, ?)\n",
      "2018-01-31 21:58:59,984 INFO sqlalchemy.engine.base.Engine ('fred', 'Fred Flinstone', 'blah')\n",
      "2018-01-31 21:58:59,986 INFO sqlalchemy.engine.base.Engine COMMIT\n"
     ]
    }
   ],
   "source": [
    "session.commit()"
   ]
  },
  {
   "cell_type": "code",
   "execution_count": 27,
   "metadata": {},
   "outputs": [
    {
     "name": "stdout",
     "output_type": "stream",
     "text": [
      "2018-01-31 21:59:37,332 INFO sqlalchemy.engine.base.Engine BEGIN (implicit)\n",
      "2018-01-31 21:59:37,334 INFO sqlalchemy.engine.base.Engine SELECT users.id AS users_id, users.name AS users_name, users.fullname AS users_fullname, users.password AS users_password \n",
      "FROM users \n",
      "WHERE users.id = ?\n",
      "2018-01-31 21:59:37,336 INFO sqlalchemy.engine.base.Engine (1,)\n"
     ]
    },
    {
     "data": {
      "text/plain": [
       "1"
      ]
     },
     "execution_count": 27,
     "metadata": {},
     "output_type": "execute_result"
    }
   ],
   "source": [
    "ed_user.id"
   ]
  },
  {
   "cell_type": "code",
   "execution_count": 28,
   "metadata": {},
   "outputs": [],
   "source": [
    "ed_user.name = 'Edwardo'\n",
    "fake_user = User(name='fakeuser', fullname='Invalid', password='12345')\n",
    "session.add(fake_user)"
   ]
  },
  {
   "cell_type": "code",
   "execution_count": 29,
   "metadata": {},
   "outputs": [
    {
     "name": "stdout",
     "output_type": "stream",
     "text": [
      "2018-01-31 22:01:05,841 INFO sqlalchemy.engine.base.Engine UPDATE users SET name=? WHERE users.id = ?\n",
      "2018-01-31 22:01:05,842 INFO sqlalchemy.engine.base.Engine ('Edwardo', 1)\n",
      "2018-01-31 22:01:05,845 INFO sqlalchemy.engine.base.Engine INSERT INTO users (name, fullname, password) VALUES (?, ?, ?)\n",
      "2018-01-31 22:01:05,845 INFO sqlalchemy.engine.base.Engine ('fakeuser', 'Invalid', '12345')\n",
      "2018-01-31 22:01:05,848 INFO sqlalchemy.engine.base.Engine SELECT users.id AS users_id, users.name AS users_name, users.fullname AS users_fullname, users.password AS users_password \n",
      "FROM users \n",
      "WHERE users.name IN (?, ?)\n",
      "2018-01-31 22:01:05,849 INFO sqlalchemy.engine.base.Engine ('Edwardo', 'fakeuser')\n"
     ]
    },
    {
     "data": {
      "text/plain": [
       "[<User(name='Edwardo', fullname='Ed Jones', password='f8s7ccs')>,\n",
       " <User(name='fakeuser', fullname='Invalid', password='12345')>]"
      ]
     },
     "execution_count": 29,
     "metadata": {},
     "output_type": "execute_result"
    }
   ],
   "source": [
    "session.query(User).filter(User.name.in_(['Edwardo', 'fakeuser'])).all()"
   ]
  },
  {
   "cell_type": "code",
   "execution_count": 30,
   "metadata": {},
   "outputs": [
    {
     "name": "stdout",
     "output_type": "stream",
     "text": [
      "2018-01-31 22:01:31,801 INFO sqlalchemy.engine.base.Engine ROLLBACK\n"
     ]
    }
   ],
   "source": [
    "session.rollback()"
   ]
  },
  {
   "cell_type": "code",
   "execution_count": 31,
   "metadata": {},
   "outputs": [
    {
     "name": "stdout",
     "output_type": "stream",
     "text": [
      "2018-01-31 22:01:40,904 INFO sqlalchemy.engine.base.Engine BEGIN (implicit)\n",
      "2018-01-31 22:01:40,906 INFO sqlalchemy.engine.base.Engine SELECT users.id AS users_id, users.name AS users_name, users.fullname AS users_fullname, users.password AS users_password \n",
      "FROM users \n",
      "WHERE users.id = ?\n",
      "2018-01-31 22:01:40,908 INFO sqlalchemy.engine.base.Engine (1,)\n"
     ]
    },
    {
     "data": {
      "text/plain": [
       "'ed'"
      ]
     },
     "execution_count": 31,
     "metadata": {},
     "output_type": "execute_result"
    }
   ],
   "source": [
    "ed_user.name"
   ]
  },
  {
   "cell_type": "code",
   "execution_count": 32,
   "metadata": {},
   "outputs": [
    {
     "data": {
      "text/plain": [
       "False"
      ]
     },
     "execution_count": 32,
     "metadata": {},
     "output_type": "execute_result"
    }
   ],
   "source": [
    "fake_user in session"
   ]
  },
  {
   "cell_type": "code",
   "execution_count": 33,
   "metadata": {},
   "outputs": [],
   "source": [
    "import sqlite3"
   ]
  },
  {
   "cell_type": "code",
   "execution_count": 35,
   "metadata": {},
   "outputs": [
    {
     "name": "stdout",
     "output_type": "stream",
     "text": [
      "2.6.0\n"
     ]
    }
   ],
   "source": [
    "import sqlite3\n",
    "from sqlite3 import Error\n",
    " \n",
    "def create_connection(db_file):\n",
    "    \"\"\" create a database connection to a SQLite database \"\"\"\n",
    "    try:\n",
    "        conn = sqlite3.connect(db_file)\n",
    "        print(sqlite3.version)\n",
    "    except Error as e:\n",
    "        print(e)\n",
    "    finally:\n",
    "        conn.close()\n",
    " \n",
    "create_connection(\"C:/Users/val31/Desktop/Projects/mp3scrape/sqlitemp3.db\")"
   ]
  },
  {
   "cell_type": "code",
   "execution_count": 37,
   "metadata": {},
   "outputs": [],
   "source": [
    "engine = create_engine('sqlite:///sqlitemp3.db', echo=True)"
   ]
  },
  {
   "cell_type": "code",
   "execution_count": 38,
   "metadata": {},
   "outputs": [],
   "source": [
    "Base = declarative_base()"
   ]
  },
  {
   "cell_type": "code",
   "execution_count": 39,
   "metadata": {},
   "outputs": [],
   "source": [
    "class User(Base):\n",
    "    __tablename__ = 'users'\n",
    "    \n",
    "    id = Column(Integer, primary_key=True)\n",
    "    name = Column(String)\n",
    "    fullname = Column(String)\n",
    "    password = Column(String)\n",
    "    \n",
    "    def __repr__(self):\n",
    "        return \"<User(name='%s', fullname='%s', password='%s')>\" % (self.name, self.fullname, self.password)"
   ]
  },
  {
   "cell_type": "code",
   "execution_count": 40,
   "metadata": {},
   "outputs": [
    {
     "name": "stdout",
     "output_type": "stream",
     "text": [
      "2018-01-31 22:19:07,337 INFO sqlalchemy.engine.base.Engine SELECT CAST('test plain returns' AS VARCHAR(60)) AS anon_1\n",
      "2018-01-31 22:19:07,340 INFO sqlalchemy.engine.base.Engine ()\n",
      "2018-01-31 22:19:07,342 INFO sqlalchemy.engine.base.Engine SELECT CAST('test unicode returns' AS VARCHAR(60)) AS anon_1\n",
      "2018-01-31 22:19:07,343 INFO sqlalchemy.engine.base.Engine ()\n",
      "2018-01-31 22:19:07,350 INFO sqlalchemy.engine.base.Engine PRAGMA table_info(\"users\")\n",
      "2018-01-31 22:19:07,351 INFO sqlalchemy.engine.base.Engine ()\n",
      "2018-01-31 22:19:07,356 INFO sqlalchemy.engine.base.Engine \n",
      "CREATE TABLE users (\n",
      "\tid INTEGER NOT NULL, \n",
      "\tname VARCHAR, \n",
      "\tfullname VARCHAR, \n",
      "\tpassword VARCHAR, \n",
      "\tPRIMARY KEY (id)\n",
      ")\n",
      "\n",
      "\n",
      "2018-01-31 22:19:07,357 INFO sqlalchemy.engine.base.Engine ()\n",
      "2018-01-31 22:19:07,381 INFO sqlalchemy.engine.base.Engine COMMIT\n"
     ]
    }
   ],
   "source": [
    "Base.metadata.create_all(engine)"
   ]
  },
  {
   "cell_type": "code",
   "execution_count": 41,
   "metadata": {},
   "outputs": [],
   "source": [
    "Session = sessionmaker(bind=engine)\n",
    "session = Session()"
   ]
  },
  {
   "cell_type": "code",
   "execution_count": 42,
   "metadata": {},
   "outputs": [],
   "source": [
    "ed_user = User(name='ed', fullname='Ed Jones', password='edspassword')\n",
    "session.add(ed_user)"
   ]
  },
  {
   "cell_type": "code",
   "execution_count": 43,
   "metadata": {},
   "outputs": [
    {
     "name": "stdout",
     "output_type": "stream",
     "text": [
      "2018-01-31 22:19:59,903 INFO sqlalchemy.engine.base.Engine BEGIN (implicit)\n",
      "2018-01-31 22:19:59,906 INFO sqlalchemy.engine.base.Engine INSERT INTO users (name, fullname, password) VALUES (?, ?, ?)\n",
      "2018-01-31 22:19:59,908 INFO sqlalchemy.engine.base.Engine ('ed', 'Ed Jones', 'edspassword')\n",
      "2018-01-31 22:19:59,912 INFO sqlalchemy.engine.base.Engine COMMIT\n"
     ]
    }
   ],
   "source": [
    "session.commit()"
   ]
  },
  {
   "cell_type": "code",
   "execution_count": 44,
   "metadata": {},
   "outputs": [],
   "source": [
    "session.add_all([\n",
    "    User(name='wendy', fullname='Wendy Williams', password='foobar'),\n",
    "    User(name='mary', fullname='Mary Contrary', password='xxg527'),\n",
    "    User(name='fred', fullname='Fred Flinstone', password='blah')\n",
    "])"
   ]
  },
  {
   "cell_type": "code",
   "execution_count": 45,
   "metadata": {},
   "outputs": [
    {
     "name": "stdout",
     "output_type": "stream",
     "text": [
      "2018-01-31 22:20:29,003 INFO sqlalchemy.engine.base.Engine BEGIN (implicit)\n",
      "2018-01-31 22:20:29,005 INFO sqlalchemy.engine.base.Engine INSERT INTO users (name, fullname, password) VALUES (?, ?, ?)\n",
      "2018-01-31 22:20:29,007 INFO sqlalchemy.engine.base.Engine ('wendy', 'Wendy Williams', 'foobar')\n",
      "2018-01-31 22:20:29,010 INFO sqlalchemy.engine.base.Engine INSERT INTO users (name, fullname, password) VALUES (?, ?, ?)\n",
      "2018-01-31 22:20:29,011 INFO sqlalchemy.engine.base.Engine ('mary', 'Mary Contrary', 'xxg527')\n",
      "2018-01-31 22:20:29,013 INFO sqlalchemy.engine.base.Engine INSERT INTO users (name, fullname, password) VALUES (?, ?, ?)\n",
      "2018-01-31 22:20:29,014 INFO sqlalchemy.engine.base.Engine ('fred', 'Fred Flinstone', 'blah')\n",
      "2018-01-31 22:20:29,016 INFO sqlalchemy.engine.base.Engine COMMIT\n"
     ]
    }
   ],
   "source": [
    "session.commit()"
   ]
  },
  {
   "cell_type": "code",
   "execution_count": 46,
   "metadata": {},
   "outputs": [
    {
     "name": "stdout",
     "output_type": "stream",
     "text": [
      "2018-01-31 22:21:07,465 INFO sqlalchemy.engine.base.Engine BEGIN (implicit)\n",
      "2018-01-31 22:21:07,466 INFO sqlalchemy.engine.base.Engine SELECT users.id AS users_id, users.name AS users_name, users.fullname AS users_fullname, users.password AS users_password \n",
      "FROM users ORDER BY users.id\n",
      "2018-01-31 22:21:07,468 INFO sqlalchemy.engine.base.Engine ()\n",
      "ed Ed Jones\n",
      "wendy Wendy Williams\n",
      "mary Mary Contrary\n",
      "fred Fred Flinstone\n"
     ]
    }
   ],
   "source": [
    "for instance in session.query(User).order_by(User.id):\n",
    "    print(instance.name, instance.fullname)"
   ]
  },
  {
   "cell_type": "code",
   "execution_count": 47,
   "metadata": {},
   "outputs": [
    {
     "name": "stdout",
     "output_type": "stream",
     "text": [
      "2018-01-31 22:21:59,637 INFO sqlalchemy.engine.base.Engine SELECT users.name AS users_name, users.fullname AS users_fullname \n",
      "FROM users\n",
      "2018-01-31 22:21:59,640 INFO sqlalchemy.engine.base.Engine ()\n",
      "ed Ed Jones\n",
      "wendy Wendy Williams\n",
      "mary Mary Contrary\n",
      "fred Fred Flinstone\n"
     ]
    }
   ],
   "source": [
    "for name, fullname in session.query(User.name, User.fullname):\n",
    "    print(name, fullname)"
   ]
  },
  {
   "cell_type": "code",
   "execution_count": 48,
   "metadata": {},
   "outputs": [
    {
     "name": "stdout",
     "output_type": "stream",
     "text": [
      "2018-01-31 22:22:33,623 INFO sqlalchemy.engine.base.Engine SELECT users.id AS users_id, users.name AS users_name, users.fullname AS users_fullname, users.password AS users_password \n",
      "FROM users\n",
      "2018-01-31 22:22:33,625 INFO sqlalchemy.engine.base.Engine ()\n",
      "<User(name='ed', fullname='Ed Jones', password='edspassword')> ed\n",
      "<User(name='wendy', fullname='Wendy Williams', password='foobar')> wendy\n",
      "<User(name='mary', fullname='Mary Contrary', password='xxg527')> mary\n",
      "<User(name='fred', fullname='Fred Flinstone', password='blah')> fred\n"
     ]
    }
   ],
   "source": [
    "for row in session.query(User, User.name).all():\n",
    "    print(row.User, row.name)"
   ]
  },
  {
   "cell_type": "code",
   "execution_count": 49,
   "metadata": {},
   "outputs": [
    {
     "name": "stdout",
     "output_type": "stream",
     "text": [
      "2018-02-01 13:56:21,289 INFO sqlalchemy.engine.base.Engine SELECT users.id AS users_id, users.name AS users_name, users.fullname AS users_fullname, users.password AS users_password \n",
      "FROM users \n",
      "WHERE users.name LIKE ? ORDER BY users.id\n",
      "2018-02-01 13:56:21,297 INFO sqlalchemy.engine.base.Engine ('%ed',)\n"
     ]
    },
    {
     "data": {
      "text/plain": [
       "[<User(name='ed', fullname='Ed Jones', password='edspassword')>,\n",
       " <User(name='fred', fullname='Fred Flinstone', password='blah')>]"
      ]
     },
     "execution_count": 49,
     "metadata": {},
     "output_type": "execute_result"
    }
   ],
   "source": [
    "query = session.query(User).filter(User.name.like('%ed')).order_by(User.id)\n",
    "query.all()"
   ]
  },
  {
   "cell_type": "code",
   "execution_count": 50,
   "metadata": {},
   "outputs": [
    {
     "name": "stdout",
     "output_type": "stream",
     "text": [
      "2018-02-01 13:56:44,693 INFO sqlalchemy.engine.base.Engine SELECT users.id AS users_id, users.name AS users_name, users.fullname AS users_fullname, users.password AS users_password \n",
      "FROM users \n",
      "WHERE users.name LIKE ? ORDER BY users.id\n",
      " LIMIT ? OFFSET ?\n",
      "2018-02-01 13:56:44,694 INFO sqlalchemy.engine.base.Engine ('%ed', 1, 0)\n"
     ]
    },
    {
     "data": {
      "text/plain": [
       "<User(name='ed', fullname='Ed Jones', password='edspassword')>"
      ]
     },
     "execution_count": 50,
     "metadata": {},
     "output_type": "execute_result"
    }
   ],
   "source": [
    "query.first()"
   ]
  },
  {
   "cell_type": "code",
   "execution_count": 51,
   "metadata": {},
   "outputs": [],
   "source": [
    "from sqlalchemy import func"
   ]
  },
  {
   "cell_type": "code",
   "execution_count": 52,
   "metadata": {},
   "outputs": [
    {
     "name": "stdout",
     "output_type": "stream",
     "text": [
      "2018-02-02 20:35:40,468 INFO sqlalchemy.engine.base.Engine SELECT count(users.name) AS count_1, users.name AS users_name \n",
      "FROM users GROUP BY users.name\n",
      "2018-02-02 20:35:40,471 INFO sqlalchemy.engine.base.Engine ()\n"
     ]
    },
    {
     "data": {
      "text/plain": [
       "[(1, 'ed'), (1, 'fred'), (1, 'mary'), (1, 'wendy')]"
      ]
     },
     "execution_count": 52,
     "metadata": {},
     "output_type": "execute_result"
    }
   ],
   "source": [
    "session.query(func.count(User.name), User.name).group_by(User.name).all()"
   ]
  },
  {
   "cell_type": "code",
   "execution_count": null,
   "metadata": {},
   "outputs": [],
   "source": []
  }
 ],
 "metadata": {
  "kernelspec": {
   "display_name": "Python 3",
   "language": "python",
   "name": "python3"
  },
  "language_info": {
   "codemirror_mode": {
    "name": "ipython",
    "version": 3
   },
   "file_extension": ".py",
   "mimetype": "text/x-python",
   "name": "python",
   "nbconvert_exporter": "python",
   "pygments_lexer": "ipython3",
   "version": "3.6.2"
  }
 },
 "nbformat": 4,
 "nbformat_minor": 2
}
